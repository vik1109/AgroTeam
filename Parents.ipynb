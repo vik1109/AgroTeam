{
 "cells": [
  {
   "cell_type": "code",
   "execution_count": 1,
   "id": "531cb8e2",
   "metadata": {},
   "outputs": [],
   "source": [
    "import pandas as pd"
   ]
  },
  {
   "cell_type": "code",
   "execution_count": 12,
   "id": "8393b55a",
   "metadata": {},
   "outputs": [
    {
     "name": "stderr",
     "output_type": "stream",
     "text": [
      "C:\\ProgramData\\Anaconda3\\lib\\site-packages\\IPython\\core\\interactiveshell.py:3444: FutureWarning: The error_bad_lines argument has been deprecated and will be removed in a future version.\n",
      "\n",
      "\n",
      "  exec(code_obj, self.user_global_ns, self.user_ns)\n"
     ]
    },
    {
     "data": {
      "text/html": [
       "<div>\n",
       "<style scoped>\n",
       "    .dataframe tbody tr th:only-of-type {\n",
       "        vertical-align: middle;\n",
       "    }\n",
       "\n",
       "    .dataframe tbody tr th {\n",
       "        vertical-align: top;\n",
       "    }\n",
       "\n",
       "    .dataframe thead th {\n",
       "        text-align: right;\n",
       "    }\n",
       "</style>\n",
       "<table border=\"1\" class=\"dataframe\">\n",
       "  <thead>\n",
       "    <tr style=\"text-align: right;\">\n",
       "      <th></th>\n",
       "      <th>Номер животного</th>\n",
       "      <th>Ушная бирка животного</th>\n",
       "      <th>Номер Матери</th>\n",
       "      <th>Код Отца</th>\n",
       "      <th>Отец Матери</th>\n",
       "    </tr>\n",
       "  </thead>\n",
       "  <tbody>\n",
       "    <tr>\n",
       "      <th>0</th>\n",
       "      <td>1</td>\n",
       "      <td>570034283</td>\n",
       "      <td>0</td>\n",
       "      <td>-</td>\n",
       "      <td>-</td>\n",
       "    </tr>\n",
       "    <tr>\n",
       "      <th>1</th>\n",
       "      <td>2</td>\n",
       "      <td>533487712</td>\n",
       "      <td>0</td>\n",
       "      <td>-</td>\n",
       "      <td>-</td>\n",
       "    </tr>\n",
       "    <tr>\n",
       "      <th>2</th>\n",
       "      <td>3</td>\n",
       "      <td>897733157</td>\n",
       "      <td>0</td>\n",
       "      <td>-</td>\n",
       "      <td>-</td>\n",
       "    </tr>\n",
       "    <tr>\n",
       "      <th>3</th>\n",
       "      <td>4</td>\n",
       "      <td>584322510</td>\n",
       "      <td>0</td>\n",
       "      <td>-</td>\n",
       "      <td>-</td>\n",
       "    </tr>\n",
       "    <tr>\n",
       "      <th>4</th>\n",
       "      <td>6</td>\n",
       "      <td>887578050</td>\n",
       "      <td>0</td>\n",
       "      <td>-</td>\n",
       "      <td>-</td>\n",
       "    </tr>\n",
       "  </tbody>\n",
       "</table>\n",
       "</div>"
      ],
      "text/plain": [
       "   Номер животного Ушная бирка животного  Номер Матери    Код Отца Отец Матери\n",
       "0                1             570034283             0  -           -         \n",
       "1                2             533487712             0  -           -         \n",
       "2                3             897733157             0  -           -         \n",
       "3                4             584322510             0  -           -         \n",
       "4                6             887578050             0  -           -         "
      ]
     },
     "execution_count": 12,
     "metadata": {},
     "output_type": "execute_result"
    }
   ],
   "source": [
    "df = pd.read_csv('parents.CSV', encoding = 'cp1251', error_bad_lines = False, header = 0, sep = ';')\n",
    "df.head()"
   ]
  },
  {
   "cell_type": "code",
   "execution_count": 13,
   "id": "f5731773",
   "metadata": {},
   "outputs": [
    {
     "name": "stdout",
     "output_type": "stream",
     "text": [
      "<class 'pandas.core.frame.DataFrame'>\n",
      "RangeIndex: 25498 entries, 0 to 25497\n",
      "Data columns (total 5 columns):\n",
      " #   Column                 Non-Null Count  Dtype \n",
      "---  ------                 --------------  ----- \n",
      " 0   Номер животного        25498 non-null  int64 \n",
      " 1   Ушная бирка животного  25498 non-null  object\n",
      " 2   Номер Матери           25498 non-null  int64 \n",
      " 3   Код Отца               25498 non-null  object\n",
      " 4   Отец Матери            25498 non-null  object\n",
      "dtypes: int64(2), object(3)\n",
      "memory usage: 996.1+ KB\n"
     ]
    }
   ],
   "source": [
    "df.info()"
   ]
  },
  {
   "cell_type": "code",
   "execution_count": 14,
   "id": "84d246a5",
   "metadata": {},
   "outputs": [
    {
     "data": {
      "text/html": [
       "<div>\n",
       "<style scoped>\n",
       "    .dataframe tbody tr th:only-of-type {\n",
       "        vertical-align: middle;\n",
       "    }\n",
       "\n",
       "    .dataframe tbody tr th {\n",
       "        vertical-align: top;\n",
       "    }\n",
       "\n",
       "    .dataframe thead th {\n",
       "        text-align: right;\n",
       "    }\n",
       "</style>\n",
       "<table border=\"1\" class=\"dataframe\">\n",
       "  <thead>\n",
       "    <tr style=\"text-align: right;\">\n",
       "      <th></th>\n",
       "      <th>Номер животного</th>\n",
       "      <th>Ушная бирка животного</th>\n",
       "      <th>Номер Матери</th>\n",
       "      <th>Код Отца</th>\n",
       "      <th>Отец Матери</th>\n",
       "    </tr>\n",
       "  </thead>\n",
       "  <tbody>\n",
       "    <tr>\n",
       "      <th>25493</th>\n",
       "      <td>912269</td>\n",
       "      <td>912269</td>\n",
       "      <td>411124</td>\n",
       "      <td>1H11344</td>\n",
       "      <td>DISTANCE</td>\n",
       "    </tr>\n",
       "    <tr>\n",
       "      <th>25494</th>\n",
       "      <td>912270</td>\n",
       "      <td>912270</td>\n",
       "      <td>612166</td>\n",
       "      <td>777H10771</td>\n",
       "      <td>STEVIE</td>\n",
       "    </tr>\n",
       "    <tr>\n",
       "      <th>25495</th>\n",
       "      <td>912271</td>\n",
       "      <td>912271</td>\n",
       "      <td>407078</td>\n",
       "      <td>1H11917</td>\n",
       "      <td>ICEMAN</td>\n",
       "    </tr>\n",
       "    <tr>\n",
       "      <th>25496</th>\n",
       "      <td>912272</td>\n",
       "      <td>912272</td>\n",
       "      <td>803014</td>\n",
       "      <td>777H10574</td>\n",
       "      <td>29H16387</td>\n",
       "    </tr>\n",
       "    <tr>\n",
       "      <th>25497</th>\n",
       "      <td>912273</td>\n",
       "      <td>912273</td>\n",
       "      <td>803140</td>\n",
       "      <td>777H10690</td>\n",
       "      <td>777H10473</td>\n",
       "    </tr>\n",
       "  </tbody>\n",
       "</table>\n",
       "</div>"
      ],
      "text/plain": [
       "       Номер животного Ушная бирка животного  Номер Матери    Код Отца  \\\n",
       "25493           912269                912269        411124  1H11344      \n",
       "25494           912270                912270        612166  777H10771    \n",
       "25495           912271                912271        407078  1H11917      \n",
       "25496           912272                912272        803014  777H10574    \n",
       "25497           912273                912273        803140  777H10690    \n",
       "\n",
       "      Отец Матери  \n",
       "25493  DISTANCE    \n",
       "25494  STEVIE      \n",
       "25495  ICEMAN      \n",
       "25496  29H16387    \n",
       "25497  777H10473   "
      ]
     },
     "execution_count": 14,
     "metadata": {},
     "output_type": "execute_result"
    }
   ],
   "source": [
    "df.tail()"
   ]
  },
  {
   "cell_type": "code",
   "execution_count": null,
   "id": "23180e8d",
   "metadata": {},
   "outputs": [],
   "source": []
  }
 ],
 "metadata": {
  "kernelspec": {
   "display_name": "Python 3 (ipykernel)",
   "language": "python",
   "name": "python3"
  },
  "language_info": {
   "codemirror_mode": {
    "name": "ipython",
    "version": 3
   },
   "file_extension": ".py",
   "mimetype": "text/x-python",
   "name": "python",
   "nbconvert_exporter": "python",
   "pygments_lexer": "ipython3",
   "version": "3.9.7"
  }
 },
 "nbformat": 4,
 "nbformat_minor": 5
}
