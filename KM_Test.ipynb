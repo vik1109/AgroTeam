{
 "cells": [
  {
   "cell_type": "code",
   "execution_count": 1,
   "id": "9597b40e",
   "metadata": {},
   "outputs": [],
   "source": [
    "import warnings\n",
    "warnings.filterwarnings('ignore')"
   ]
  },
  {
   "cell_type": "code",
   "execution_count": 3,
   "id": "a2475c51",
   "metadata": {},
   "outputs": [],
   "source": [
    "import pandas as pd\n",
    "import numpy as np\n",
    "\n",
    "import matplotlib.pyplot as plt\n",
    "import seaborn as sns\n",
    "\n",
    "import numpy as np"
   ]
  },
  {
   "cell_type": "code",
   "execution_count": 4,
   "id": "c3205daf",
   "metadata": {},
   "outputs": [],
   "source": [
    "import matplotlib as mlp\n",
    "\n",
    "plt.style.use('dark_background')\n",
    "\n",
    "mlp.rcParams['lines.linewidth'] = 2\n",
    "\n",
    "mlp.rcParams['xtick.major.size'] = 15\n",
    "mlp.rcParams['xtick.major.width'] = 2\n",
    "mlp.rcParams['xtick.labelsize'] = 15\n",
    "mlp.rcParams['xtick.color'] = '#4DFC2D'\n",
    "\n",
    "mlp.rcParams['ytick.major.size'] = 15\n",
    "mlp.rcParams['ytick.major.width'] = 2\n",
    "mlp.rcParams['ytick.labelsize'] = 15\n",
    "mlp.rcParams['ytick.color'] = '#4DFC2D'\n",
    "\n",
    "mlp.rcParams['axes.labelsize'] = 20\n",
    "mlp.rcParams['axes.titlesize'] = 20\n",
    "mlp.rcParams['axes.titlecolor'] = '#ED6919'\n",
    "mlp.rcParams['axes.labelcolor'] = '#ED6919'"
   ]
  },
  {
   "cell_type": "code",
   "execution_count": 7,
   "id": "812beaef",
   "metadata": {},
   "outputs": [],
   "source": [
    "df = pd.read_csv('data.csv')"
   ]
  },
  {
   "cell_type": "code",
   "execution_count": 8,
   "id": "a2d9dd70",
   "metadata": {},
   "outputs": [
    {
     "data": {
      "text/plain": [
       "КМ1     1917\n",
       "МВ      1334\n",
       "КМ3     1054\n",
       "КМ5     1031\n",
       "КМ4      732\n",
       "КМ2      510\n",
       "КМ6      431\n",
       "ТМ9      324\n",
       "ТМ3      219\n",
       "ТМ1      156\n",
       "ТМ5      104\n",
       "ТМ6       95\n",
       "СКМ3      89\n",
       "СКМ5      79\n",
       "ТМ2       73\n",
       "СКМ4      47\n",
       "КМ7       41\n",
       "СКМ6      36\n",
       "ТМ4       36\n",
       "СКМ2      26\n",
       "КМ8       20\n",
       "СКМ1      13\n",
       "MB         1\n",
       "Name: protokol, dtype: int64"
      ]
     },
     "execution_count": 8,
     "metadata": {},
     "output_type": "execute_result"
    }
   ],
   "source": [
    "df.protokol.value_counts()"
   ]
  },
  {
   "cell_type": "code",
   "execution_count": 40,
   "id": "20bf5f1d",
   "metadata": {},
   "outputs": [
    {
     "data": {
      "text/html": [
       "<div>\n",
       "<style scoped>\n",
       "    .dataframe tbody tr th:only-of-type {\n",
       "        vertical-align: middle;\n",
       "    }\n",
       "\n",
       "    .dataframe tbody tr th {\n",
       "        vertical-align: top;\n",
       "    }\n",
       "\n",
       "    .dataframe thead th {\n",
       "        text-align: right;\n",
       "    }\n",
       "</style>\n",
       "<table border=\"1\" class=\"dataframe\">\n",
       "  <thead>\n",
       "    <tr style=\"text-align: right;\">\n",
       "      <th></th>\n",
       "      <th>Дней стельности при событии</th>\n",
       "      <th>Дни доения при событии</th>\n",
       "      <th>protokol</th>\n",
       "      <th>struck</th>\n",
       "      <th>result</th>\n",
       "      <th>stage</th>\n",
       "      <th>KM</th>\n",
       "    </tr>\n",
       "  </thead>\n",
       "  <tbody>\n",
       "    <tr>\n",
       "      <th>0</th>\n",
       "      <td>291</td>\n",
       "      <td>213</td>\n",
       "      <td>МВ</td>\n",
       "      <td>0.00</td>\n",
       "      <td>0.50</td>\n",
       "      <td>0</td>\n",
       "      <td>0</td>\n",
       "    </tr>\n",
       "    <tr>\n",
       "      <th>1</th>\n",
       "      <td>291</td>\n",
       "      <td>215</td>\n",
       "      <td>ТМ6</td>\n",
       "      <td>0.50</td>\n",
       "      <td>0.75</td>\n",
       "      <td>1</td>\n",
       "      <td>0</td>\n",
       "    </tr>\n",
       "    <tr>\n",
       "      <th>2</th>\n",
       "      <td>291</td>\n",
       "      <td>221</td>\n",
       "      <td>КМ4</td>\n",
       "      <td>0.75</td>\n",
       "      <td>0.00</td>\n",
       "      <td>2</td>\n",
       "      <td>1</td>\n",
       "    </tr>\n",
       "    <tr>\n",
       "      <th>3</th>\n",
       "      <td>0</td>\n",
       "      <td>294</td>\n",
       "      <td>КМ5</td>\n",
       "      <td>0.25</td>\n",
       "      <td>0.00</td>\n",
       "      <td>0</td>\n",
       "      <td>1</td>\n",
       "    </tr>\n",
       "    <tr>\n",
       "      <th>4</th>\n",
       "      <td>0</td>\n",
       "      <td>302</td>\n",
       "      <td>КМ4</td>\n",
       "      <td>0.25</td>\n",
       "      <td>0.25</td>\n",
       "      <td>1</td>\n",
       "      <td>1</td>\n",
       "    </tr>\n",
       "  </tbody>\n",
       "</table>\n",
       "</div>"
      ],
      "text/plain": [
       "   Дней стельности при событии  Дни доения при событии protokol  struck  \\\n",
       "0                          291                     213       МВ    0.00   \n",
       "1                          291                     215      ТМ6    0.50   \n",
       "2                          291                     221      КМ4    0.75   \n",
       "3                            0                     294      КМ5    0.25   \n",
       "4                            0                     302      КМ4    0.25   \n",
       "\n",
       "   result  stage  KM  \n",
       "0    0.50      0   0  \n",
       "1    0.75      1   0  \n",
       "2    0.00      2   1  \n",
       "3    0.00      0   1  \n",
       "4    0.25      1   1  "
      ]
     },
     "execution_count": 40,
     "metadata": {},
     "output_type": "execute_result"
    }
   ],
   "source": [
    "import re\n",
    "pattern = re.compile(\"KM[0-9]\")\n",
    "\n",
    "# Название колонки - англ, в лямбде - русский\n",
    "df['KM'] = df.protokol.str[:2].apply(lambda x: x == 'КМ').astype(int)\n",
    "\n",
    "df.head()"
   ]
  },
  {
   "cell_type": "code",
   "execution_count": 41,
   "id": "00924d9a",
   "metadata": {},
   "outputs": [
    {
     "data": {
      "text/plain": [
       "True"
      ]
     },
     "execution_count": 41,
     "metadata": {},
     "output_type": "execute_result"
    }
   ],
   "source": [
    "df.KM.sum() == 1917 + 1054 + 1031 + 732 + 510 + 431 + 41 + 20"
   ]
  },
  {
   "cell_type": "code",
   "execution_count": 42,
   "id": "3929983d",
   "metadata": {},
   "outputs": [
    {
     "data": {
      "text/plain": [
       "1    5736\n",
       "0    2632\n",
       "Name: KM, dtype: int64"
      ]
     },
     "execution_count": 42,
     "metadata": {},
     "output_type": "execute_result"
    }
   ],
   "source": [
    "df.KM.value_counts()"
   ]
  },
  {
   "cell_type": "markdown",
   "id": "6d6d15bf",
   "metadata": {},
   "source": [
    "#### Проведем стат проверку гипотез\n",
    "\n",
    "$H_0:\\quad$  На первом этапе лечения протоколы типа *КМ* дают такое же качество, как и остальные протоколы в среднем\n",
    "\n",
    "$H_1:\\quad$ *КМ* дает меньше нулей в `result`, чем остальные протоколы в среднем\n",
    "\n",
    "$\\alpha = 0.05$"
   ]
  },
  {
   "cell_type": "code",
   "execution_count": 51,
   "id": "9e029b23",
   "metadata": {},
   "outputs": [
    {
     "data": {
      "text/html": [
       "<div>\n",
       "<style scoped>\n",
       "    .dataframe tbody tr th:only-of-type {\n",
       "        vertical-align: middle;\n",
       "    }\n",
       "\n",
       "    .dataframe tbody tr th {\n",
       "        vertical-align: top;\n",
       "    }\n",
       "\n",
       "    .dataframe thead th {\n",
       "        text-align: right;\n",
       "    }\n",
       "</style>\n",
       "<table border=\"1\" class=\"dataframe\">\n",
       "  <thead>\n",
       "    <tr style=\"text-align: right;\">\n",
       "      <th></th>\n",
       "      <th>Дней стельности при событии</th>\n",
       "      <th>Дни доения при событии</th>\n",
       "      <th>protokol</th>\n",
       "      <th>struck</th>\n",
       "      <th>result</th>\n",
       "      <th>stage</th>\n",
       "      <th>KM</th>\n",
       "    </tr>\n",
       "  </thead>\n",
       "  <tbody>\n",
       "    <tr>\n",
       "      <th>0</th>\n",
       "      <td>291</td>\n",
       "      <td>213</td>\n",
       "      <td>МВ</td>\n",
       "      <td>0.00</td>\n",
       "      <td>0.5</td>\n",
       "      <td>0</td>\n",
       "      <td>0</td>\n",
       "    </tr>\n",
       "    <tr>\n",
       "      <th>1</th>\n",
       "      <td>0</td>\n",
       "      <td>294</td>\n",
       "      <td>КМ5</td>\n",
       "      <td>0.25</td>\n",
       "      <td>0.0</td>\n",
       "      <td>0</td>\n",
       "      <td>1</td>\n",
       "    </tr>\n",
       "    <tr>\n",
       "      <th>2</th>\n",
       "      <td>0</td>\n",
       "      <td>103</td>\n",
       "      <td>КМ4</td>\n",
       "      <td>1.00</td>\n",
       "      <td>0.0</td>\n",
       "      <td>0</td>\n",
       "      <td>1</td>\n",
       "    </tr>\n",
       "    <tr>\n",
       "      <th>3</th>\n",
       "      <td>287</td>\n",
       "      <td>246</td>\n",
       "      <td>КМ1</td>\n",
       "      <td>0.25</td>\n",
       "      <td>0.0</td>\n",
       "      <td>0</td>\n",
       "      <td>1</td>\n",
       "    </tr>\n",
       "    <tr>\n",
       "      <th>4</th>\n",
       "      <td>154</td>\n",
       "      <td>275</td>\n",
       "      <td>КМ6</td>\n",
       "      <td>0.50</td>\n",
       "      <td>0.0</td>\n",
       "      <td>0</td>\n",
       "      <td>1</td>\n",
       "    </tr>\n",
       "  </tbody>\n",
       "</table>\n",
       "</div>"
      ],
      "text/plain": [
       "   Дней стельности при событии  Дни доения при событии protokol  struck  \\\n",
       "0                          291                     213       МВ    0.00   \n",
       "1                            0                     294      КМ5    0.25   \n",
       "2                            0                     103      КМ4    1.00   \n",
       "3                          287                     246      КМ1    0.25   \n",
       "4                          154                     275      КМ6    0.50   \n",
       "\n",
       "   result  stage  KM  \n",
       "0     0.5      0   0  \n",
       "1     0.0      0   1  \n",
       "2     0.0      0   1  \n",
       "3     0.0      0   1  \n",
       "4     0.0      0   1  "
      ]
     },
     "execution_count": 51,
     "metadata": {},
     "output_type": "execute_result"
    }
   ],
   "source": [
    "df_km = df[df.stage == 0].copy().reset_index().drop('index', axis=1)\n",
    "\n",
    "df_km.head()"
   ]
  },
  {
   "cell_type": "code",
   "execution_count": 54,
   "id": "867e2f64",
   "metadata": {},
   "outputs": [
    {
     "data": {
      "text/plain": [
       "0    1656\n",
       "1    1111\n",
       "Name: result_bin, dtype: int64"
      ]
     },
     "execution_count": 54,
     "metadata": {},
     "output_type": "execute_result"
    }
   ],
   "source": [
    "df_km['result_bin'] = df_km.result.apply(lambda x: x != 0).astype(int)\n",
    "\n",
    "df_km.result_bin.value_counts()"
   ]
  },
  {
   "cell_type": "code",
   "execution_count": 55,
   "id": "06fc106d",
   "metadata": {},
   "outputs": [
    {
     "name": "stdout",
     "output_type": "stream",
     "text": [
      "1565 1202\n"
     ]
    }
   ],
   "source": [
    "km = df_km[df_km.KM == 1]\n",
    "others = df_km[df_km.KM != 1]\n",
    "\n",
    "print(km.shape[0], others.shape[0])"
   ]
  },
  {
   "cell_type": "code",
   "execution_count": 61,
   "id": "c25d5538",
   "metadata": {},
   "outputs": [
    {
     "data": {
      "text/plain": [
       "(0.47667731629392973, 0.3036605657237937)"
      ]
     },
     "execution_count": 61,
     "metadata": {},
     "output_type": "execute_result"
    }
   ],
   "source": [
    "km.result_bin.mean(), others.result_bin.mean()"
   ]
  },
  {
   "cell_type": "markdown",
   "id": "b639650c",
   "metadata": {},
   "source": [
    "Если смотреть просто по выборкам, то для *КМ* на первом этапе значение `result` чаще принимает значение 1 (т.е. реже принимает значение 0)"
   ]
  },
  {
   "cell_type": "code",
   "execution_count": 67,
   "id": "86c79352",
   "metadata": {},
   "outputs": [
    {
     "name": "stdout",
     "output_type": "stream",
     "text": [
      "P-value: 4.661574559575273e-21\n"
     ]
    }
   ],
   "source": [
    "from statsmodels.stats.weightstats import ztest\n",
    "\n",
    "# Воспользуемся z тестом для сравнения долей\n",
    "\n",
    "print('P-value:', ztest(km.result_bin, others.result_bin, alternative='larger')[1])"
   ]
  },
  {
   "cell_type": "markdown",
   "id": "0acc84bb",
   "metadata": {},
   "source": [
    "P-уровень значимости стремится к нулю, что гораздо меньше нашего фиксированного $\\alpha$\n",
    "\n",
    "=> Отвергаем нулевую гипотезу о равенстве средних (i.e. равенство распределений)"
   ]
  },
  {
   "cell_type": "markdown",
   "id": "0e1a7ccd",
   "metadata": {},
   "source": [
    "#### Также сравним соотношения `result` для всех протоколов со `stage` = `result_bin` = 0"
   ]
  },
  {
   "cell_type": "code",
   "execution_count": 72,
   "id": "44c295c0",
   "metadata": {},
   "outputs": [
    {
     "data": {
      "text/html": [
       "<div>\n",
       "<style scoped>\n",
       "    .dataframe tbody tr th:only-of-type {\n",
       "        vertical-align: middle;\n",
       "    }\n",
       "\n",
       "    .dataframe tbody tr th {\n",
       "        vertical-align: top;\n",
       "    }\n",
       "\n",
       "    .dataframe thead th {\n",
       "        text-align: right;\n",
       "    }\n",
       "</style>\n",
       "<table border=\"1\" class=\"dataframe\">\n",
       "  <thead>\n",
       "    <tr style=\"text-align: right;\">\n",
       "      <th></th>\n",
       "      <th>Дней стельности при событии</th>\n",
       "      <th>Дни доения при событии</th>\n",
       "      <th>protokol</th>\n",
       "      <th>struck</th>\n",
       "      <th>result</th>\n",
       "      <th>stage</th>\n",
       "      <th>KM</th>\n",
       "      <th>result_bin</th>\n",
       "    </tr>\n",
       "  </thead>\n",
       "  <tbody>\n",
       "    <tr>\n",
       "      <th>0</th>\n",
       "      <td>291</td>\n",
       "      <td>213</td>\n",
       "      <td>МВ</td>\n",
       "      <td>0.00</td>\n",
       "      <td>0.50</td>\n",
       "      <td>0</td>\n",
       "      <td>0</td>\n",
       "      <td>1</td>\n",
       "    </tr>\n",
       "    <tr>\n",
       "      <th>1</th>\n",
       "      <td>291</td>\n",
       "      <td>215</td>\n",
       "      <td>ТМ6</td>\n",
       "      <td>0.50</td>\n",
       "      <td>0.75</td>\n",
       "      <td>1</td>\n",
       "      <td>0</td>\n",
       "      <td>1</td>\n",
       "    </tr>\n",
       "    <tr>\n",
       "      <th>10</th>\n",
       "      <td>40</td>\n",
       "      <td>157</td>\n",
       "      <td>ТМ2</td>\n",
       "      <td>0.25</td>\n",
       "      <td>0.00</td>\n",
       "      <td>0</td>\n",
       "      <td>0</td>\n",
       "      <td>0</td>\n",
       "    </tr>\n",
       "    <tr>\n",
       "      <th>22</th>\n",
       "      <td>243</td>\n",
       "      <td>259</td>\n",
       "      <td>ТМ4</td>\n",
       "      <td>0.25</td>\n",
       "      <td>0.00</td>\n",
       "      <td>0</td>\n",
       "      <td>0</td>\n",
       "      <td>0</td>\n",
       "    </tr>\n",
       "    <tr>\n",
       "      <th>26</th>\n",
       "      <td>42</td>\n",
       "      <td>250</td>\n",
       "      <td>ТМ3</td>\n",
       "      <td>0.25</td>\n",
       "      <td>0.25</td>\n",
       "      <td>0</td>\n",
       "      <td>0</td>\n",
       "      <td>1</td>\n",
       "    </tr>\n",
       "  </tbody>\n",
       "</table>\n",
       "</div>"
      ],
      "text/plain": [
       "    Дней стельности при событии  Дни доения при событии protokol  struck  \\\n",
       "0                           291                     213       МВ    0.00   \n",
       "1                           291                     215      ТМ6    0.50   \n",
       "10                           40                     157      ТМ2    0.25   \n",
       "22                          243                     259      ТМ4    0.25   \n",
       "26                           42                     250      ТМ3    0.25   \n",
       "\n",
       "    result  stage  KM  result_bin  \n",
       "0     0.50      0   0           1  \n",
       "1     0.75      1   0           1  \n",
       "10    0.00      0   0           0  \n",
       "22    0.00      0   0           0  \n",
       "26    0.25      0   0           1  "
      ]
     },
     "execution_count": 72,
     "metadata": {},
     "output_type": "execute_result"
    }
   ],
   "source": [
    "df['result_bin'] = df.result.apply(lambda x: x != 0).astype(int)\n",
    "\n",
    "df_updated = df[df.KM == 0].copy()\n",
    "\n",
    "df_updated.head()"
   ]
  },
  {
   "cell_type": "code",
   "execution_count": 70,
   "id": "c22972fe",
   "metadata": {},
   "outputs": [
    {
     "data": {
      "text/plain": [
       "<pandas.core.groupby.generic.DataFrameGroupBy object at 0x7fe5810605e0>"
      ]
     },
     "execution_count": 70,
     "metadata": {},
     "output_type": "execute_result"
    }
   ],
   "source": [
    "df.groupby('protokol')"
   ]
  }
 ],
 "metadata": {
  "kernelspec": {
   "display_name": "Python 3 (ipykernel)",
   "language": "python",
   "name": "python3"
  },
  "language_info": {
   "codemirror_mode": {
    "name": "ipython",
    "version": 3
   },
   "file_extension": ".py",
   "mimetype": "text/x-python",
   "name": "python",
   "nbconvert_exporter": "python",
   "pygments_lexer": "ipython3",
   "version": "3.9.7"
  }
 },
 "nbformat": 4,
 "nbformat_minor": 5
}
